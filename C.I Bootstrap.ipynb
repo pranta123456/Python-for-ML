{
 "cells": [
  {
   "cell_type": "markdown",
   "metadata": {},
   "source": [
    "# Emperical Bootstrap For Confidence Interval"
   ]
  },
  {
   "cell_type": "code",
   "execution_count": 5,
   "metadata": {},
   "outputs": [],
   "source": [
    "import numpy as np\n",
    "import matplotlib.pyplot as plt\n",
    "import seaborn as sns\n",
    "from sklearn.utils import resample"
   ]
  },
  {
   "cell_type": "code",
   "execution_count": 4,
   "metadata": {},
   "outputs": [
    {
     "data": {
      "image/png": "[encoded data removed]",
      "text/plain": [
       "<Figure size 432x288 with 1 Axes>"
      ]
     },
     "metadata": {
      "needs_background": "light"
     },
     "output_type": "display_data"
    },
    {
     "name": "stdout",
     "output_type": "stream",
     "text": [
      "95.0 confidence interval 161.8 and 174.0\n"
     ]
    }
   ],
   "source": [
    "# Same thing we can do it for median,variance,percentile etc\n",
    "\n",
    "\n",
    "x=np.array([180,162,158,172,168,150,171,183,165,176])\n",
    "n_iter=1000\n",
    "n_size=int(len(x))\n",
    "\n",
    "Mean=list()\n",
    "for i in range(n_iter):\n",
    "    s=resample(x,n_samples=n_size)\n",
    "    m=np.mean(s)\n",
    "    Mean.append(m)\n",
    "\n",
    "alpha=0.95\n",
    "p=((1.0-alpha)/2.0)*100\n",
    "lower=np.percentile(Mean,p)\n",
    "p=(alpha+((1.0-alpha)/2.0))*100\n",
    "upper=np.percentile(Mean,p)\n",
    "\n",
    "plt.hist(Mean)\n",
    "plt.show()\n",
    "\n",
    "print(\"%.1f confidence interval %.1f and %.1f\"%(alpha*100,lower,upper))\n",
    "    "
   ]
  }
 ],
 "metadata": {
  "kernelspec": {
   "display_name": "Python 3",
   "language": "python",
   "name": "python3"
  },
  "language_info": {
   "codemirror_mode": {
    "name": "ipython",
    "version": 3
   },
   "file_extension": ".py",
   "mimetype": "text/x-python",
   "name": "python",
   "nbconvert_exporter": "python",
   "pygments_lexer": "ipython3",
   "version": "3.7.4"
  }
 },
 "nbformat": 4,
 "nbformat_minor": 2
}
