{
 "cells": [
  {
   "attachments": {},
   "cell_type": "markdown",
   "metadata": {},
   "source": [
    "Class"
   ]
  },
  {
   "cell_type": "code",
   "execution_count": 1,
   "metadata": {},
   "outputs": [],
   "source": [
    "\"\"\"\n",
    "class class_name:\n",
    "   class_body\n",
    "\"\"\"\n",
    "\n",
    "class car:\n",
    "    pass"
   ]
  },
  {
   "attachments": {},
   "cell_type": "markdown",
   "metadata": {},
   "source": [
    "Object & Object Instance"
   ]
  },
  {
   "cell_type": "code",
   "execution_count": 2,
   "metadata": {},
   "outputs": [
    {
     "name": "stdout",
     "output_type": "stream",
     "text": [
      "<__main__.car object at 0x7f920bcc63b0>\n"
     ]
    }
   ],
   "source": [
    "\"\"\"\n",
    "When we define a class, only the description or a blueprint of the object is created. There is no memory allocation until we create its object.\n",
    "\"\"\"\n",
    "obj1 = car()\n",
    "print(obj1)"
   ]
  },
  {
   "cell_type": "code",
   "execution_count": null,
   "metadata": {},
   "outputs": [],
   "source": [
    "class car:\n",
    "    car_type = \"sedan\"                   # class attributes\n",
    "    def __init__(self, name, color):\n",
    "        self.name = name                 # instance attributes\n",
    "        self.color = color               # instance attributes\n"
   ]
  },
  {
   "cell_type": "code",
   "execution_count": 5,
   "metadata": {},
   "outputs": [],
   "source": [
    "class car:\n",
    "    car_type = \"sedan\"              \n",
    "    def __init__(self, name: str, mileage: int):\n",
    "        self.name = name                \n",
    "        self.mileage = mileage\n",
    "    def description(self):\n",
    "        return f\"The {self.name} car gives the mileage of {self.mileage} km/l\"\n",
    "    def max_speed(self, speed):\n",
    "        return f\"The {self.name} car runs at the maximum speed of {speed} km/hr\""
   ]
  },
  {
   "cell_type": "code",
   "execution_count": 6,
   "metadata": {},
   "outputs": [
    {
     "name": "stdout",
     "output_type": "stream",
     "text": [
      "The Honda City car gives the mileage of 45 km/l\n",
      "The Honda City car runs at the maximum speed of 120 km/hr\n"
     ]
    }
   ],
   "source": [
    "obj2 = car(\"Honda City\", 45)\n",
    "print(obj2.description())\n",
    "print(obj2.max_speed(120))"
   ]
  },
  {
   "cell_type": "code",
   "execution_count": 7,
   "metadata": {},
   "outputs": [
    {
     "name": "stdout",
     "output_type": "stream",
     "text": [
      "The Honada city car gives the mileage of 45 km/l\n",
      "The Skoda Octavia car gives the mileage of 35 km/l\n"
     ]
    }
   ],
   "source": [
    "# We can create any number of objects from a class\n",
    "honda = car(\"Honada city\", 45)\n",
    "skoda = car(\"Skoda Octavia\", 35)\n",
    "print(honda.description())\n",
    "print(skoda.description())"
   ]
  },
  {
   "cell_type": "code",
   "execution_count": 8,
   "metadata": {},
   "outputs": [
    {
     "name": "stdout",
     "output_type": "stream",
     "text": [
      "<__main__.car object at 0x7f920bcef370>\n",
      "<__main__.car object at 0x7f920bcef3d0>\n"
     ]
    }
   ],
   "source": [
    "# Different memory location\n",
    "print(honda)\n",
    "print(skoda)"
   ]
  },
  {
   "attachments": {},
   "cell_type": "markdown",
   "metadata": {},
   "source": [
    "Inheritance"
   ]
  },
  {
   "cell_type": "code",
   "execution_count": null,
   "metadata": {},
   "outputs": [],
   "source": []
  }
 ],
 "metadata": {
  "kernelspec": {
   "display_name": "Python 3",
   "language": "python",
   "name": "python3"
  },
  "language_info": {
   "codemirror_mode": {
    "name": "ipython",
    "version": 3
   },
   "file_extension": ".py",
   "mimetype": "text/x-python",
   "name": "python",
   "nbconvert_exporter": "python",
   "pygments_lexer": "ipython3",
   "version": "3.10.4"
  },
  "orig_nbformat": 4
 },
 "nbformat": 4,
 "nbformat_minor": 2
}
