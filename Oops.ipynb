{
 "cells": [
  {
   "attachments": {},
   "cell_type": "markdown",
   "metadata": {},
   "source": [
    "# Class"
   ]
  },
  {
   "cell_type": "code",
   "execution_count": 1,
   "metadata": {},
   "outputs": [],
   "source": [
    "\"\"\"\n",
    "class class_name:\n",
    "   class_body\n",
    "\"\"\"\n",
    "\n",
    "class car:\n",
    "    pass"
   ]
  },
  {
   "attachments": {},
   "cell_type": "markdown",
   "metadata": {},
   "source": [
    "# Object & Object Instance"
   ]
  },
  {
   "cell_type": "code",
   "execution_count": 2,
   "metadata": {},
   "outputs": [
    {
     "name": "stdout",
     "output_type": "stream",
     "text": [
      "<__main__.car object at 0x7fca6d001fc0>\n"
     ]
    }
   ],
   "source": [
    "\"\"\"\n",
    "When we define a class, only the description or a blueprint of the object is created. There is no memory allocation until we create its object.\n",
    "\"\"\"\n",
    "obj1 = car()\n",
    "print(obj1)"
   ]
  },
  {
   "cell_type": "code",
   "execution_count": null,
   "metadata": {},
   "outputs": [],
   "source": [
    "class car:\n",
    "    car_type = \"sedan\"                   # class attributes\n",
    "    def __init__(self, name, color):\n",
    "        self.name = name                 # instance attributes\n",
    "        self.color = color               # instance attributes\n"
   ]
  },
  {
   "cell_type": "code",
   "execution_count": 3,
   "metadata": {},
   "outputs": [],
   "source": [
    "class car:\n",
    "    car_type = \"sedan\"              \n",
    "    def __init__(self, name: str, mileage: int):\n",
    "        self.name = name                \n",
    "        self.mileage = mileage\n",
    "    def description(self):\n",
    "        return f\"The {self.name} car gives the mileage of {self.mileage} km/l\"\n",
    "    def max_speed(self, speed):\n",
    "        return f\"The {self.name} car runs at the maximum speed of {speed} km/hr\""
   ]
  },
  {
   "cell_type": "code",
   "execution_count": 4,
   "metadata": {},
   "outputs": [
    {
     "name": "stdout",
     "output_type": "stream",
     "text": [
      "The Honda City car gives the mileage of 45 km/l\n",
      "The Honda City car runs at the maximum speed of 120 km/hr\n"
     ]
    }
   ],
   "source": [
    "obj2 = car(\"Honda City\", 45)\n",
    "print(obj2.description())\n",
    "print(obj2.max_speed(120))"
   ]
  },
  {
   "cell_type": "code",
   "execution_count": 6,
   "metadata": {},
   "outputs": [
    {
     "name": "stdout",
     "output_type": "stream",
     "text": [
      "The Honada city car gives the mileage of 45 km/l\n",
      "The Skoda Octavia car gives the mileage of 35 km/l\n"
     ]
    }
   ],
   "source": [
    "# We can create any number of objects from a class\n",
    "honda = car(\"Honada city\", 45)\n",
    "skoda = car(\"Skoda Octavia\", 35)\n",
    "print(honda.description())\n",
    "print(skoda.description())"
   ]
  },
  {
   "cell_type": "code",
   "execution_count": 7,
   "metadata": {},
   "outputs": [
    {
     "name": "stdout",
     "output_type": "stream",
     "text": [
      "<__main__.car object at 0x7fca684ca8f0>\n",
      "<__main__.car object at 0x7fca684c9c30>\n"
     ]
    }
   ],
   "source": [
    "# Different memory location\n",
    "print(honda)\n",
    "print(skoda)"
   ]
  },
  {
   "attachments": {},
   "cell_type": "markdown",
   "metadata": {},
   "source": [
    "# Inheritance"
   ]
  },
  {
   "cell_type": "code",
   "execution_count": 14,
   "metadata": {},
   "outputs": [],
   "source": [
    "class BMW(car):\n",
    "    pass\n",
    "\n",
    "class Audi(car):\n",
    "    def audi_description(self):\n",
    "        return \"This description is specific to the Audi child class\""
   ]
  },
  {
   "cell_type": "code",
   "execution_count": 15,
   "metadata": {},
   "outputs": [],
   "source": [
    "bmw = BMW(\"BMW\", 35)\n",
    "audi = Audi(\"Audi 48 L\", 35)"
   ]
  },
  {
   "cell_type": "code",
   "execution_count": 16,
   "metadata": {},
   "outputs": [
    {
     "data": {
      "text/plain": [
       "'The BMW car gives the mileage of 35 km/l'"
      ]
     },
     "execution_count": 16,
     "metadata": {},
     "output_type": "execute_result"
    }
   ],
   "source": [
    "bmw.description()"
   ]
  },
  {
   "cell_type": "code",
   "execution_count": 17,
   "metadata": {},
   "outputs": [
    {
     "data": {
      "text/plain": [
       "'The Audi 48 L car gives the mileage of 35 km/l'"
      ]
     },
     "execution_count": 17,
     "metadata": {},
     "output_type": "execute_result"
    }
   ],
   "source": [
    "audi.description()"
   ]
  },
  {
   "cell_type": "code",
   "execution_count": 18,
   "metadata": {},
   "outputs": [
    {
     "data": {
      "text/plain": [
       "'This description is specific to the Audi child class'"
      ]
     },
     "execution_count": 18,
     "metadata": {},
     "output_type": "execute_result"
    }
   ],
   "source": [
    "audi.audi_description()"
   ]
  },
  {
   "attachments": {},
   "cell_type": "markdown",
   "metadata": {},
   "source": [
    "# Encapsulation"
   ]
  },
  {
   "cell_type": "code",
   "execution_count": 19,
   "metadata": {},
   "outputs": [],
   "source": [
    "class car:\n",
    "    car_type = \"sedan\"              \n",
    "    def __init__(self, name: str, mileage: int):\n",
    "        self._name = name           # Protected variable     \n",
    "        self.mileage = mileage\n",
    "    def description(self):\n",
    "        return f\"The {self._name} car gives the mileage of {self.mileage} km/l\"\n",
    "    def max_speed(self, speed):\n",
    "        return f\"The {self.name} car runs at the maximum speed of {speed} km/hr\""
   ]
  },
  {
   "cell_type": "code",
   "execution_count": 21,
   "metadata": {},
   "outputs": [
    {
     "name": "stdout",
     "output_type": "stream",
     "text": [
      "The Honda City car gives the mileage of 50 km/l\n",
      "Honda City\n"
     ]
    }
   ],
   "source": [
    "# we can still access the procted variable from outside class :(\n",
    "obj3 = car(\"Honda City\", 50)\n",
    "print(obj3.description())\n",
    "print(obj3._name)"
   ]
  },
  {
   "cell_type": "code",
   "execution_count": 22,
   "metadata": {},
   "outputs": [],
   "source": [
    "class car:\n",
    "    car_type = \"sedan\"              \n",
    "    def __init__(self, name: str, mileage: int):\n",
    "        self.__name = name           # Private variable     \n",
    "        self.mileage = mileage\n",
    "    def description(self):\n",
    "        return f\"The {self.__name} car gives the mileage of {self.mileage} km/l\"\n",
    "    def max_speed(self, speed):\n",
    "        return f\"The {self.name} car runs at the maximum speed of {speed} km/hr\""
   ]
  },
  {
   "cell_type": "code",
   "execution_count": 23,
   "metadata": {},
   "outputs": [
    {
     "name": "stdout",
     "output_type": "stream",
     "text": [
      "The Honda City car gives the mileage of 50 km/l\n"
     ]
    },
    {
     "ename": "AttributeError",
     "evalue": "'car' object has no attribute '__name'",
     "output_type": "error",
     "traceback": [
      "\u001b[0;31m---------------------------------------------------------------------------\u001b[0m",
      "\u001b[0;31mAttributeError\u001b[0m                            Traceback (most recent call last)",
      "Cell \u001b[0;32mIn[23], line 4\u001b[0m\n\u001b[1;32m      2\u001b[0m obj4 \u001b[39m=\u001b[39m car(\u001b[39m\"\u001b[39m\u001b[39mHonda City\u001b[39m\u001b[39m\"\u001b[39m, \u001b[39m50\u001b[39m)\n\u001b[1;32m      3\u001b[0m \u001b[39mprint\u001b[39m(obj4\u001b[39m.\u001b[39mdescription())\n\u001b[0;32m----> 4\u001b[0m \u001b[39mprint\u001b[39m(obj4\u001b[39m.\u001b[39;49m__name)\n",
      "\u001b[0;31mAttributeError\u001b[0m: 'car' object has no attribute '__name'"
     ]
    }
   ],
   "source": [
    "# We cannot access the private variable from outside class :)\n",
    "obj4 = car(\"Honda City\", 50)\n",
    "print(obj4.description())\n",
    "print(obj4.__name)"
   ]
  },
  {
   "cell_type": "code",
   "execution_count": 24,
   "metadata": {},
   "outputs": [
    {
     "name": "stdout",
     "output_type": "stream",
     "text": [
      "Honda City\n"
     ]
    }
   ],
   "source": [
    "# But But But we can still access this by this trick _class_name__variable. It designed to avoid any accident\n",
    "print(obj4._car__name)"
   ]
  },
  {
   "attachments": {},
   "cell_type": "markdown",
   "metadata": {},
   "source": [
    "# Polymorphism"
   ]
  },
  {
   "cell_type": "code",
   "execution_count": 3,
   "metadata": {},
   "outputs": [],
   "source": [
    "\"\"\"\n",
    "In OOP it refers to the functions having the same names but carrying different functionalities.\n",
    "\"\"\"\n",
    "\n",
    "class AUDI:\n",
    "    def description(self):\n",
    "        print(\"This is the description function of audi\")\n",
    "\n",
    "class BMW:\n",
    "    def description(self):\n",
    "         print(\"This is the description function of bmw\")"
   ]
  },
  {
   "cell_type": "code",
   "execution_count": 4,
   "metadata": {},
   "outputs": [
    {
     "name": "stdout",
     "output_type": "stream",
     "text": [
      "This is the description function of audi\n",
      "This is the description function of bmw\n"
     ]
    }
   ],
   "source": [
    "audi = AUDI()\n",
    "bmw = BMW()\n",
    "\n",
    "audi.description()\n",
    "bmw.description()"
   ]
  },
  {
   "attachments": {},
   "cell_type": "markdown",
   "metadata": {},
   "source": [
    "# Abstraction"
   ]
  },
  {
   "cell_type": "code",
   "execution_count": 5,
   "metadata": {},
   "outputs": [],
   "source": [
    "from abc import ABC, abstractmethod\n",
    "\n",
    "# abstract class\n",
    "class Car(ABC):\n",
    "    def __init__(self, name):\n",
    "        self.name = name\n",
    "    \n",
    "    def description(self):\n",
    "        print(\"This is the description of the car class\")\n",
    "\n",
    "    @abstractmethod\n",
    "    def price(self, x):\n",
    "        pass"
   ]
  },
  {
   "cell_type": "code",
   "execution_count": 6,
   "metadata": {},
   "outputs": [
    {
     "ename": "TypeError",
     "evalue": "Can't instantiate abstract class Car with abstract method price",
     "output_type": "error",
     "traceback": [
      "\u001b[0;31m---------------------------------------------------------------------------\u001b[0m",
      "\u001b[0;31mTypeError\u001b[0m                                 Traceback (most recent call last)",
      "Cell \u001b[0;32mIn[6], line 2\u001b[0m\n\u001b[1;32m      1\u001b[0m \u001b[39m# we cannot create object from abstract class\u001b[39;00m\n\u001b[0;32m----> 2\u001b[0m obj \u001b[39m=\u001b[39m Car()\n",
      "\u001b[0;31mTypeError\u001b[0m: Can't instantiate abstract class Car with abstract method price"
     ]
    }
   ],
   "source": [
    "# we cannot create object from abstract class\n",
    "obj = Car()"
   ]
  },
  {
   "cell_type": "code",
   "execution_count": 7,
   "metadata": {},
   "outputs": [
    {
     "name": "stdout",
     "output_type": "stream",
     "text": [
      "The Honda City has price 5000$\n"
     ]
    }
   ],
   "source": [
    "# But we can create a child class of abstract class and create object out of it\n",
    "class NEW(Car):\n",
    "    def price(self, x):\n",
    "        print(f\"The {self.name} has price {x}$\")\n",
    "\n",
    "obj = NEW(\"Honda City\")\n",
    "obj.price(5000)"
   ]
  },
  {
   "cell_type": "code",
   "execution_count": 8,
   "metadata": {},
   "outputs": [],
   "source": [
    "# https://www.analyticsvidhya.com/blog/2020/09/object-oriented-programming/"
   ]
  }
 ],
 "metadata": {
  "kernelspec": {
   "display_name": "Python 3",
   "language": "python",
   "name": "python3"
  },
  "language_info": {
   "codemirror_mode": {
    "name": "ipython",
    "version": 3
   },
   "file_extension": ".py",
   "mimetype": "text/x-python",
   "name": "python",
   "nbconvert_exporter": "python",
   "pygments_lexer": "ipython3",
   "version": "3.10.4"
  },
  "orig_nbformat": 4
 },
 "nbformat": 4,
 "nbformat_minor": 2
}
